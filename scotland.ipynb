{
 "cells": [
  {
   "cell_type": "code",
   "execution_count": 1,
   "metadata": {},
   "outputs": [],
   "source": [
    "from sklearn.model_selection import train_test_split, GridSearchCV, StratifiedKFold\n",
    "from sklearn.ensemble import RandomForestClassifier\n",
    "from sklearn.metrics import roc_auc_score, roc_curve, classification_report\n",
    "from sklearn.metrics import accuracy_score\n",
    "from sklearn.metrics import classification_report, f1_score\n",
    "from sklearn.preprocessing import LabelEncoder\n",
    "from imblearn.over_sampling import RandomOverSampler\n",
    "from collections import Counter\n",
    "import pandas as pd\n",
    "import numpy as np\n",
    "import matplotlib.pyplot as plt"
   ]
  },
  {
   "cell_type": "code",
   "execution_count": 2,
   "metadata": {},
   "outputs": [],
   "source": [
    "data = pd.read_csv(\"./scaleData4.csv\", encoding='unicode_escape')\n",
    "data['Tree_Type'] = pd.Categorical(data['Tree_Type'])"
   ]
  },
  {
   "cell_type": "code",
   "execution_count": 3,
   "metadata": {},
   "outputs": [
    {
     "data": {
      "text/html": [
       "<div>\n",
       "<style scoped>\n",
       "    .dataframe tbody tr th:only-of-type {\n",
       "        vertical-align: middle;\n",
       "    }\n",
       "\n",
       "    .dataframe tbody tr th {\n",
       "        vertical-align: top;\n",
       "    }\n",
       "\n",
       "    .dataframe thead th {\n",
       "        text-align: right;\n",
       "    }\n",
       "</style>\n",
       "<table border=\"1\" class=\"dataframe\">\n",
       "  <thead>\n",
       "    <tr style=\"text-align: right;\">\n",
       "      <th></th>\n",
       "      <th>Tree_Type</th>\n",
       "      <th>Total_Rainfall</th>\n",
       "      <th>Max_Temp</th>\n",
       "      <th>Total_Sunlight_Hours</th>\n",
       "      <th>Continentality_Index</th>\n",
       "      <th>Aspect</th>\n",
       "      <th>Slope</th>\n",
       "      <th>Soil_Drainage</th>\n",
       "      <th>Elevation</th>\n",
       "    </tr>\n",
       "  </thead>\n",
       "  <tbody>\n",
       "    <tr>\n",
       "      <th>0</th>\n",
       "      <td>Birch</td>\n",
       "      <td>0.616885</td>\n",
       "      <td>0.950211</td>\n",
       "      <td>1.068172</td>\n",
       "      <td>-3.546670</td>\n",
       "      <td>-0.546633</td>\n",
       "      <td>-0.298658</td>\n",
       "      <td>-0.101340</td>\n",
       "      <td>-1.680292</td>\n",
       "    </tr>\n",
       "    <tr>\n",
       "      <th>1</th>\n",
       "      <td>Birch</td>\n",
       "      <td>0.631733</td>\n",
       "      <td>0.893061</td>\n",
       "      <td>1.064464</td>\n",
       "      <td>-3.545062</td>\n",
       "      <td>-0.546633</td>\n",
       "      <td>0.126682</td>\n",
       "      <td>-0.101340</td>\n",
       "      <td>-1.475736</td>\n",
       "    </tr>\n",
       "    <tr>\n",
       "      <th>2</th>\n",
       "      <td>Birch</td>\n",
       "      <td>0.624579</td>\n",
       "      <td>0.917826</td>\n",
       "      <td>1.063117</td>\n",
       "      <td>-3.544434</td>\n",
       "      <td>-0.546633</td>\n",
       "      <td>0.272948</td>\n",
       "      <td>-0.101340</td>\n",
       "      <td>-1.645337</td>\n",
       "    </tr>\n",
       "    <tr>\n",
       "      <th>3</th>\n",
       "      <td>Birch</td>\n",
       "      <td>0.649511</td>\n",
       "      <td>0.809619</td>\n",
       "      <td>1.043035</td>\n",
       "      <td>-3.535525</td>\n",
       "      <td>-1.017494</td>\n",
       "      <td>-0.016739</td>\n",
       "      <td>0.479590</td>\n",
       "      <td>-1.403469</td>\n",
       "    </tr>\n",
       "    <tr>\n",
       "      <th>4</th>\n",
       "      <td>Birch</td>\n",
       "      <td>0.633588</td>\n",
       "      <td>0.871113</td>\n",
       "      <td>1.047244</td>\n",
       "      <td>-3.537353</td>\n",
       "      <td>-1.017494</td>\n",
       "      <td>-0.456912</td>\n",
       "      <td>-0.101340</td>\n",
       "      <td>-1.587375</td>\n",
       "    </tr>\n",
       "    <tr>\n",
       "      <th>...</th>\n",
       "      <td>...</td>\n",
       "      <td>...</td>\n",
       "      <td>...</td>\n",
       "      <td>...</td>\n",
       "      <td>...</td>\n",
       "      <td>...</td>\n",
       "      <td>...</td>\n",
       "      <td>...</td>\n",
       "      <td>...</td>\n",
       "    </tr>\n",
       "    <tr>\n",
       "      <th>76945</th>\n",
       "      <td>Birch</td>\n",
       "      <td>-1.120370</td>\n",
       "      <td>0.987865</td>\n",
       "      <td>3.020303</td>\n",
       "      <td>-0.301251</td>\n",
       "      <td>-0.546633</td>\n",
       "      <td>-0.935050</td>\n",
       "      <td>-0.134100</td>\n",
       "      <td>-1.013980</td>\n",
       "    </tr>\n",
       "    <tr>\n",
       "      <th>76946</th>\n",
       "      <td>Birch</td>\n",
       "      <td>-0.849795</td>\n",
       "      <td>-0.230213</td>\n",
       "      <td>2.896902</td>\n",
       "      <td>-0.630250</td>\n",
       "      <td>-0.075772</td>\n",
       "      <td>-1.172902</td>\n",
       "      <td>-0.343416</td>\n",
       "      <td>-0.233438</td>\n",
       "    </tr>\n",
       "    <tr>\n",
       "      <th>76947</th>\n",
       "      <td>Birch</td>\n",
       "      <td>-1.148905</td>\n",
       "      <td>1.094829</td>\n",
       "      <td>3.100447</td>\n",
       "      <td>-0.300942</td>\n",
       "      <td>-1.017494</td>\n",
       "      <td>-0.595248</td>\n",
       "      <td>0.203744</td>\n",
       "      <td>-1.084941</td>\n",
       "    </tr>\n",
       "    <tr>\n",
       "      <th>76948</th>\n",
       "      <td>Birch</td>\n",
       "      <td>-1.150027</td>\n",
       "      <td>1.095443</td>\n",
       "      <td>3.105821</td>\n",
       "      <td>-0.301838</td>\n",
       "      <td>-1.017494</td>\n",
       "      <td>-0.551664</td>\n",
       "      <td>0.203744</td>\n",
       "      <td>-1.073643</td>\n",
       "    </tr>\n",
       "    <tr>\n",
       "      <th>76949</th>\n",
       "      <td>Birch</td>\n",
       "      <td>-1.144843</td>\n",
       "      <td>1.059488</td>\n",
       "      <td>3.098513</td>\n",
       "      <td>-0.306503</td>\n",
       "      <td>-1.017494</td>\n",
       "      <td>-0.830644</td>\n",
       "      <td>0.203744</td>\n",
       "      <td>-1.164567</td>\n",
       "    </tr>\n",
       "  </tbody>\n",
       "</table>\n",
       "<p>76950 rows × 9 columns</p>\n",
       "</div>"
      ],
      "text/plain": [
       "      Tree_Type  Total_Rainfall  Max_Temp  Total_Sunlight_Hours  \\\n",
       "0         Birch        0.616885  0.950211              1.068172   \n",
       "1         Birch        0.631733  0.893061              1.064464   \n",
       "2         Birch        0.624579  0.917826              1.063117   \n",
       "3         Birch        0.649511  0.809619              1.043035   \n",
       "4         Birch        0.633588  0.871113              1.047244   \n",
       "...         ...             ...       ...                   ...   \n",
       "76945     Birch       -1.120370  0.987865              3.020303   \n",
       "76946     Birch       -0.849795 -0.230213              2.896902   \n",
       "76947     Birch       -1.148905  1.094829              3.100447   \n",
       "76948     Birch       -1.150027  1.095443              3.105821   \n",
       "76949     Birch       -1.144843  1.059488              3.098513   \n",
       "\n",
       "       Continentality_Index    Aspect     Slope  Soil_Drainage  Elevation  \n",
       "0                 -3.546670 -0.546633 -0.298658      -0.101340  -1.680292  \n",
       "1                 -3.545062 -0.546633  0.126682      -0.101340  -1.475736  \n",
       "2                 -3.544434 -0.546633  0.272948      -0.101340  -1.645337  \n",
       "3                 -3.535525 -1.017494 -0.016739       0.479590  -1.403469  \n",
       "4                 -3.537353 -1.017494 -0.456912      -0.101340  -1.587375  \n",
       "...                     ...       ...       ...            ...        ...  \n",
       "76945             -0.301251 -0.546633 -0.935050      -0.134100  -1.013980  \n",
       "76946             -0.630250 -0.075772 -1.172902      -0.343416  -0.233438  \n",
       "76947             -0.300942 -1.017494 -0.595248       0.203744  -1.084941  \n",
       "76948             -0.301838 -1.017494 -0.551664       0.203744  -1.073643  \n",
       "76949             -0.306503 -1.017494 -0.830644       0.203744  -1.164567  \n",
       "\n",
       "[76950 rows x 9 columns]"
      ]
     },
     "execution_count": 3,
     "metadata": {},
     "output_type": "execute_result"
    }
   ],
   "source": [
    "data"
   ]
  },
  {
   "cell_type": "code",
   "execution_count": 4,
   "metadata": {},
   "outputs": [
    {
     "name": "stderr",
     "output_type": "stream",
     "text": [
      "C:\\Users\\lagoodal\\AppData\\Local\\Temp\\ipykernel_1760\\2511919625.py:4: SettingWithCopyWarning: \n",
      "A value is trying to be set on a copy of a slice from a DataFrame.\n",
      "Try using .loc[row_indexer,col_indexer] = value instead\n",
      "\n",
      "See the caveats in the documentation: https://pandas.pydata.org/pandas-docs/stable/user_guide/indexing.html#returning-a-view-versus-a-copy\n",
      "  y['Tree_Type'] = label_encoder.fit_transform(y['Tree_Type'])\n"
     ]
    },
    {
     "data": {
      "text/plain": [
       "Tree_Type\n",
       "2            0.488720\n",
       "0            0.385718\n",
       "1            0.125562\n",
       "Name: proportion, dtype: float64"
      ]
     },
     "execution_count": 4,
     "metadata": {},
     "output_type": "execute_result"
    }
   ],
   "source": [
    "X = data.drop('Tree_Type', axis = 1)\n",
    "y = data[['Tree_Type']]\n",
    "label_encoder = LabelEncoder()\n",
    "y['Tree_Type'] = label_encoder.fit_transform(y['Tree_Type'])\n",
    "y.value_counts(normalize=True)\n"
   ]
  },
  {
   "cell_type": "code",
   "execution_count": 5,
   "metadata": {},
   "outputs": [],
   "source": [
    "X_train, X_test, y_train, y_test = train_test_split(X, y, test_size=0.2, random_state=33)"
   ]
  },
  {
   "cell_type": "code",
   "execution_count": 6,
   "metadata": {},
   "outputs": [
    {
     "data": {
      "text/plain": [
       "Tree_Type\n",
       "Scots Pine      37607\n",
       "Birch           29681\n",
       "Oak Woodland     9662\n",
       "Name: count, dtype: int64"
      ]
     },
     "execution_count": 6,
     "metadata": {},
     "output_type": "execute_result"
    }
   ],
   "source": [
    "# Print class distribution before resampling\n",
    "class_distribution = data['Tree_Type'].value_counts()\n",
    "class_distribution"
   ]
  },
  {
   "cell_type": "code",
   "execution_count": 7,
   "metadata": {},
   "outputs": [],
   "source": [
    "rf_classifier = RandomForestClassifier(n_jobs=-1, random_state=33)"
   ]
  },
  {
   "cell_type": "code",
   "execution_count": 8,
   "metadata": {},
   "outputs": [],
   "source": [
    "param_grid = {\n",
    "    'n_estimators' : [130,140,150,160,170],\n",
    "    'max_depth' : [7,8,9,10,11],\n",
    "    'min_samples_split' : [1,2,3],\n",
    "    'min_samples_leaf' : [1,2,3],\n",
    "    'max_leaf_nodes' : [None, 3,5,7],\n",
    "    'max_samples' : [None, 0.2, 0.5]\n",
    "}"
   ]
  },
  {
   "cell_type": "code",
   "execution_count": 9,
   "metadata": {},
   "outputs": [],
   "source": [
    "stratified_kfold = StratifiedKFold(n_splits=5, shuffle=True, random_state=33)"
   ]
  },
  {
   "cell_type": "code",
   "execution_count": 10,
   "metadata": {},
   "outputs": [],
   "source": [
    "grid_search_rf = GridSearchCV(estimator=rf_classifier, param_grid=param_grid, cv=stratified_kfold, scoring=\"f1_weighted\")"
   ]
  },
  {
   "cell_type": "code",
   "execution_count": 11,
   "metadata": {},
   "outputs": [
    {
     "name": "stderr",
     "output_type": "stream",
     "text": [
      "c:\\Users\\lagoodal\\AppData\\Local\\anaconda3\\Lib\\site-packages\\sklearn\\model_selection\\_validation.py:425: FitFailedWarning: \n",
      "4500 fits failed out of a total of 13500.\n",
      "The score on these train-test partitions for these parameters will be set to nan.\n",
      "If these failures are not expected, you can try to debug them by setting error_score='raise'.\n",
      "\n",
      "Below are more details about the failures:\n",
      "--------------------------------------------------------------------------------\n",
      "4500 fits failed with the following error:\n",
      "Traceback (most recent call last):\n",
      "  File \"c:\\Users\\lagoodal\\AppData\\Local\\anaconda3\\Lib\\site-packages\\sklearn\\model_selection\\_validation.py\", line 732, in _fit_and_score\n",
      "    estimator.fit(X_train, y_train, **fit_params)\n",
      "  File \"c:\\Users\\lagoodal\\AppData\\Local\\anaconda3\\Lib\\site-packages\\sklearn\\base.py\", line 1144, in wrapper\n",
      "    estimator._validate_params()\n",
      "  File \"c:\\Users\\lagoodal\\AppData\\Local\\anaconda3\\Lib\\site-packages\\sklearn\\base.py\", line 637, in _validate_params\n",
      "    validate_parameter_constraints(\n",
      "  File \"c:\\Users\\lagoodal\\AppData\\Local\\anaconda3\\Lib\\site-packages\\sklearn\\utils\\_param_validation.py\", line 95, in validate_parameter_constraints\n",
      "    raise InvalidParameterError(\n",
      "sklearn.utils._param_validation.InvalidParameterError: The 'min_samples_split' parameter of RandomForestClassifier must be an int in the range [2, inf) or a float in the range (0.0, 1.0]. Got 1 instead.\n",
      "\n",
      "  warnings.warn(some_fits_failed_message, FitFailedWarning)\n",
      "c:\\Users\\lagoodal\\AppData\\Local\\anaconda3\\Lib\\site-packages\\sklearn\\model_selection\\_search.py:976: UserWarning: One or more of the test scores are non-finite: [       nan        nan        nan ... 0.67384499 0.67233335 0.67070798]\n",
      "  warnings.warn(\n"
     ]
    },
    {
     "data": {
      "text/html": [
       "<style>#sk-container-id-1 {color: black;}#sk-container-id-1 pre{padding: 0;}#sk-container-id-1 div.sk-toggleable {background-color: white;}#sk-container-id-1 label.sk-toggleable__label {cursor: pointer;display: block;width: 100%;margin-bottom: 0;padding: 0.3em;box-sizing: border-box;text-align: center;}#sk-container-id-1 label.sk-toggleable__label-arrow:before {content: \"▸\";float: left;margin-right: 0.25em;color: #696969;}#sk-container-id-1 label.sk-toggleable__label-arrow:hover:before {color: black;}#sk-container-id-1 div.sk-estimator:hover label.sk-toggleable__label-arrow:before {color: black;}#sk-container-id-1 div.sk-toggleable__content {max-height: 0;max-width: 0;overflow: hidden;text-align: left;background-color: #f0f8ff;}#sk-container-id-1 div.sk-toggleable__content pre {margin: 0.2em;color: black;border-radius: 0.25em;background-color: #f0f8ff;}#sk-container-id-1 input.sk-toggleable__control:checked~div.sk-toggleable__content {max-height: 200px;max-width: 100%;overflow: auto;}#sk-container-id-1 input.sk-toggleable__control:checked~label.sk-toggleable__label-arrow:before {content: \"▾\";}#sk-container-id-1 div.sk-estimator input.sk-toggleable__control:checked~label.sk-toggleable__label {background-color: #d4ebff;}#sk-container-id-1 div.sk-label input.sk-toggleable__control:checked~label.sk-toggleable__label {background-color: #d4ebff;}#sk-container-id-1 input.sk-hidden--visually {border: 0;clip: rect(1px 1px 1px 1px);clip: rect(1px, 1px, 1px, 1px);height: 1px;margin: -1px;overflow: hidden;padding: 0;position: absolute;width: 1px;}#sk-container-id-1 div.sk-estimator {font-family: monospace;background-color: #f0f8ff;border: 1px dotted black;border-radius: 0.25em;box-sizing: border-box;margin-bottom: 0.5em;}#sk-container-id-1 div.sk-estimator:hover {background-color: #d4ebff;}#sk-container-id-1 div.sk-parallel-item::after {content: \"\";width: 100%;border-bottom: 1px solid gray;flex-grow: 1;}#sk-container-id-1 div.sk-label:hover label.sk-toggleable__label {background-color: #d4ebff;}#sk-container-id-1 div.sk-serial::before {content: \"\";position: absolute;border-left: 1px solid gray;box-sizing: border-box;top: 0;bottom: 0;left: 50%;z-index: 0;}#sk-container-id-1 div.sk-serial {display: flex;flex-direction: column;align-items: center;background-color: white;padding-right: 0.2em;padding-left: 0.2em;position: relative;}#sk-container-id-1 div.sk-item {position: relative;z-index: 1;}#sk-container-id-1 div.sk-parallel {display: flex;align-items: stretch;justify-content: center;background-color: white;position: relative;}#sk-container-id-1 div.sk-item::before, #sk-container-id-1 div.sk-parallel-item::before {content: \"\";position: absolute;border-left: 1px solid gray;box-sizing: border-box;top: 0;bottom: 0;left: 50%;z-index: -1;}#sk-container-id-1 div.sk-parallel-item {display: flex;flex-direction: column;z-index: 1;position: relative;background-color: white;}#sk-container-id-1 div.sk-parallel-item:first-child::after {align-self: flex-end;width: 50%;}#sk-container-id-1 div.sk-parallel-item:last-child::after {align-self: flex-start;width: 50%;}#sk-container-id-1 div.sk-parallel-item:only-child::after {width: 0;}#sk-container-id-1 div.sk-dashed-wrapped {border: 1px dashed gray;margin: 0 0.4em 0.5em 0.4em;box-sizing: border-box;padding-bottom: 0.4em;background-color: white;}#sk-container-id-1 div.sk-label label {font-family: monospace;font-weight: bold;display: inline-block;line-height: 1.2em;}#sk-container-id-1 div.sk-label-container {text-align: center;}#sk-container-id-1 div.sk-container {/* jupyter's `normalize.less` sets `[hidden] { display: none; }` but bootstrap.min.css set `[hidden] { display: none !important; }` so we also need the `!important` here to be able to override the default hidden behavior on the sphinx rendered scikit-learn.org. See: https://github.com/scikit-learn/scikit-learn/issues/21755 */display: inline-block !important;position: relative;}#sk-container-id-1 div.sk-text-repr-fallback {display: none;}</style><div id=\"sk-container-id-1\" class=\"sk-top-container\"><div class=\"sk-text-repr-fallback\"><pre>GridSearchCV(cv=StratifiedKFold(n_splits=5, random_state=33, shuffle=True),\n",
       "             estimator=RandomForestClassifier(n_jobs=-1, random_state=33),\n",
       "             param_grid={&#x27;max_depth&#x27;: [7, 8, 9, 10, 11],\n",
       "                         &#x27;max_leaf_nodes&#x27;: [None, 3, 5, 7],\n",
       "                         &#x27;max_samples&#x27;: [None, 0.2, 0.5],\n",
       "                         &#x27;min_samples_leaf&#x27;: [1, 2, 3],\n",
       "                         &#x27;min_samples_split&#x27;: [1, 2, 3],\n",
       "                         &#x27;n_estimators&#x27;: [130, 140, 150, 160, 170]},\n",
       "             scoring=&#x27;f1_weighted&#x27;)</pre><b>In a Jupyter environment, please rerun this cell to show the HTML representation or trust the notebook. <br />On GitHub, the HTML representation is unable to render, please try loading this page with nbviewer.org.</b></div><div class=\"sk-container\" hidden><div class=\"sk-item sk-dashed-wrapped\"><div class=\"sk-label-container\"><div class=\"sk-label sk-toggleable\"><input class=\"sk-toggleable__control sk-hidden--visually\" id=\"sk-estimator-id-1\" type=\"checkbox\" ><label for=\"sk-estimator-id-1\" class=\"sk-toggleable__label sk-toggleable__label-arrow\">GridSearchCV</label><div class=\"sk-toggleable__content\"><pre>GridSearchCV(cv=StratifiedKFold(n_splits=5, random_state=33, shuffle=True),\n",
       "             estimator=RandomForestClassifier(n_jobs=-1, random_state=33),\n",
       "             param_grid={&#x27;max_depth&#x27;: [7, 8, 9, 10, 11],\n",
       "                         &#x27;max_leaf_nodes&#x27;: [None, 3, 5, 7],\n",
       "                         &#x27;max_samples&#x27;: [None, 0.2, 0.5],\n",
       "                         &#x27;min_samples_leaf&#x27;: [1, 2, 3],\n",
       "                         &#x27;min_samples_split&#x27;: [1, 2, 3],\n",
       "                         &#x27;n_estimators&#x27;: [130, 140, 150, 160, 170]},\n",
       "             scoring=&#x27;f1_weighted&#x27;)</pre></div></div></div><div class=\"sk-parallel\"><div class=\"sk-parallel-item\"><div class=\"sk-item\"><div class=\"sk-label-container\"><div class=\"sk-label sk-toggleable\"><input class=\"sk-toggleable__control sk-hidden--visually\" id=\"sk-estimator-id-2\" type=\"checkbox\" ><label for=\"sk-estimator-id-2\" class=\"sk-toggleable__label sk-toggleable__label-arrow\">estimator: RandomForestClassifier</label><div class=\"sk-toggleable__content\"><pre>RandomForestClassifier(n_jobs=-1, random_state=33)</pre></div></div></div><div class=\"sk-serial\"><div class=\"sk-item\"><div class=\"sk-estimator sk-toggleable\"><input class=\"sk-toggleable__control sk-hidden--visually\" id=\"sk-estimator-id-3\" type=\"checkbox\" ><label for=\"sk-estimator-id-3\" class=\"sk-toggleable__label sk-toggleable__label-arrow\">RandomForestClassifier</label><div class=\"sk-toggleable__content\"><pre>RandomForestClassifier(n_jobs=-1, random_state=33)</pre></div></div></div></div></div></div></div></div></div></div>"
      ],
      "text/plain": [
       "GridSearchCV(cv=StratifiedKFold(n_splits=5, random_state=33, shuffle=True),\n",
       "             estimator=RandomForestClassifier(n_jobs=-1, random_state=33),\n",
       "             param_grid={'max_depth': [7, 8, 9, 10, 11],\n",
       "                         'max_leaf_nodes': [None, 3, 5, 7],\n",
       "                         'max_samples': [None, 0.2, 0.5],\n",
       "                         'min_samples_leaf': [1, 2, 3],\n",
       "                         'min_samples_split': [1, 2, 3],\n",
       "                         'n_estimators': [130, 140, 150, 160, 170]},\n",
       "             scoring='f1_weighted')"
      ]
     },
     "execution_count": 11,
     "metadata": {},
     "output_type": "execute_result"
    }
   ],
   "source": [
    "grid_search_rf.fit(X_train, y_train.values.ravel())"
   ]
  },
  {
   "cell_type": "code",
   "execution_count": 12,
   "metadata": {},
   "outputs": [
    {
     "name": "stdout",
     "output_type": "stream",
     "text": [
      "\n",
      "Best Hyperparameters: {'max_depth': 11, 'max_leaf_nodes': None, 'max_samples': None, 'min_samples_leaf': 1, 'min_samples_split': 3, 'n_estimators': 170}\n"
     ]
    }
   ],
   "source": [
    "best_params_rf = grid_search_rf.best_params_\n",
    "print(f\"\\nBest Hyperparameters: {best_params_rf}\")"
   ]
  },
  {
   "cell_type": "code",
   "execution_count": 13,
   "metadata": {},
   "outputs": [],
   "source": [
    "best_rf_classifier = grid_search_rf.best_estimator_"
   ]
  },
  {
   "cell_type": "code",
   "execution_count": 14,
   "metadata": {},
   "outputs": [],
   "source": [
    "y_pred_rf = best_rf_classifier.predict(X_test)"
   ]
  },
  {
   "cell_type": "code",
   "execution_count": 15,
   "metadata": {},
   "outputs": [
    {
     "name": "stdout",
     "output_type": "stream",
     "text": [
      "\n",
      "Classification Report:\n",
      "              precision    recall  f1-score   support\n",
      "\n",
      "           0       0.87      0.84      0.86      6017\n",
      "           1       0.82      0.74      0.78      1945\n",
      "           2       0.91      0.97      0.94      7428\n",
      "\n",
      "    accuracy                           0.89     15390\n",
      "   macro avg       0.87      0.85      0.86     15390\n",
      "weighted avg       0.89      0.89      0.89     15390\n",
      "\n"
     ]
    }
   ],
   "source": [
    "print(\"\\nClassification Report:\")\n",
    "print(classification_report(y_test, y_pred_rf))"
   ]
  },
  {
   "cell_type": "code",
   "execution_count": 16,
   "metadata": {},
   "outputs": [
    {
     "name": "stdout",
     "output_type": "stream",
     "text": [
      "\n",
      "Weighted F1 Score: 0.8870\n"
     ]
    }
   ],
   "source": [
    "f1 = f1_score(y_test, y_pred_rf, average = 'weighted')\n",
    "print(f\"\\nWeighted F1 Score: {f1:.4f}\")"
   ]
  },
  {
   "cell_type": "code",
   "execution_count": 17,
   "metadata": {},
   "outputs": [
    {
     "data": {
      "text/plain": [
       "array([[5052,  319,  646],\n",
       "       [ 479, 1443,   23],\n",
       "       [ 243,    5, 7180]], dtype=int64)"
      ]
     },
     "execution_count": 17,
     "metadata": {},
     "output_type": "execute_result"
    }
   ],
   "source": [
    "from sklearn.metrics import confusion_matrix\n",
    "y_pred = best_rf_classifier.predict(X_test)\n",
    "cm = confusion_matrix(y_test, y_pred)\n",
    "cm"
   ]
  },
  {
   "cell_type": "code",
   "execution_count": 18,
   "metadata": {},
   "outputs": [
    {
     "data": {
      "text/plain": [
       "Text(33.22222222222222, 0.5, 'True Value')"
      ]
     },
     "execution_count": 18,
     "metadata": {},
     "output_type": "execute_result"
    },
    {
     "data": {
      "image/png": "[encoded data removed]",
      "text/plain": [
       "<Figure size 500x500 with 2 Axes>"
      ]
     },
     "metadata": {},
     "output_type": "display_data"
    }
   ],
   "source": [
    "%matplotlib inline\n",
    "pd.set_option('display.float_format', lambda x: '%.2f' % x)\n",
    "import seaborn as sns\n",
    "plt.figure(figsize=(5,5))\n",
    "sns.heatmap(cm, annot = True)\n",
    "plt.xlabel('Predicted')\n",
    "plt.ylabel('True Value')"
   ]
  },
  {
   "cell_type": "code",
   "execution_count": 19,
   "metadata": {},
   "outputs": [
    {
     "name": "stdout",
     "output_type": "stream",
     "text": [
      "Best hyperparameters:  {'max_depth': 11, 'max_leaf_nodes': None, 'max_samples': None, 'min_samples_leaf': 1, 'min_samples_split': 3, 'n_estimators': 170}\n",
      "Accuracy on test set: 88.86%\n",
      "ROC AUC Score: 0.9727148285359905\n"
     ]
    }
   ],
   "source": [
    "# Print the best hyperparameters found\n",
    "print(\"Best hyperparameters: \", grid_search_rf.best_params_)\n",
    "\n",
    "# Use the best model for prediction\n",
    "best_model_rf = grid_search_rf.best_estimator_\n",
    "y_pred_rf = best_model_rf.predict(X_test)\n",
    "\n",
    "# Evaluate the model\n",
    "accuracy = accuracy_score(y_test, y_pred_rf)\n",
    "print(\"Accuracy on test set: {:.2f}%\".format(accuracy * 100))\n",
    "\n",
    "\n",
    "y_pred_proba_rf = best_model_rf.predict_proba(X_test)\n",
    "# For multi-class classification, you need to specify the average parameter\n",
    "roc_auc_rf = roc_auc_score(y_test, y_pred_proba_rf, multi_class='ovr')  # 'ovr' for one-vs-rest strategy\n",
    "print(\"ROC AUC Score:\", roc_auc_rf)"
   ]
  },
  {
   "cell_type": "code",
   "execution_count": 20,
   "metadata": {},
   "outputs": [
    {
     "data": {
      "text/html": [
       "<div>\n",
       "<style scoped>\n",
       "    .dataframe tbody tr th:only-of-type {\n",
       "        vertical-align: middle;\n",
       "    }\n",
       "\n",
       "    .dataframe tbody tr th {\n",
       "        vertical-align: top;\n",
       "    }\n",
       "\n",
       "    .dataframe thead th {\n",
       "        text-align: right;\n",
       "    }\n",
       "</style>\n",
       "<table border=\"1\" class=\"dataframe\">\n",
       "  <thead>\n",
       "    <tr style=\"text-align: right;\">\n",
       "      <th></th>\n",
       "      <th>Total_Rainfall</th>\n",
       "      <th>Max_Temp</th>\n",
       "      <th>Total_Sunlight_Hours</th>\n",
       "      <th>Continentality_Index</th>\n",
       "      <th>Aspect</th>\n",
       "      <th>Slope</th>\n",
       "      <th>Soil_Drainage</th>\n",
       "      <th>Elevation</th>\n",
       "    </tr>\n",
       "  </thead>\n",
       "  <tbody>\n",
       "    <tr>\n",
       "      <th>69944</th>\n",
       "      <td>-0.94</td>\n",
       "      <td>-0.09</td>\n",
       "      <td>0.93</td>\n",
       "      <td>1.01</td>\n",
       "      <td>1.81</td>\n",
       "      <td>0.04</td>\n",
       "      <td>-0.13</td>\n",
       "      <td>0.24</td>\n",
       "    </tr>\n",
       "    <tr>\n",
       "      <th>61228</th>\n",
       "      <td>-0.72</td>\n",
       "      <td>-1.95</td>\n",
       "      <td>-0.47</td>\n",
       "      <td>1.02</td>\n",
       "      <td>-1.02</td>\n",
       "      <td>-0.23</td>\n",
       "      <td>-0.34</td>\n",
       "      <td>1.63</td>\n",
       "    </tr>\n",
       "    <tr>\n",
       "      <th>9693</th>\n",
       "      <td>1.29</td>\n",
       "      <td>-0.21</td>\n",
       "      <td>-2.15</td>\n",
       "      <td>-1.31</td>\n",
       "      <td>-0.55</td>\n",
       "      <td>0.01</td>\n",
       "      <td>2.58</td>\n",
       "      <td>-0.50</td>\n",
       "    </tr>\n",
       "    <tr>\n",
       "      <th>20496</th>\n",
       "      <td>0.39</td>\n",
       "      <td>-0.33</td>\n",
       "      <td>-0.92</td>\n",
       "      <td>0.52</td>\n",
       "      <td>-1.02</td>\n",
       "      <td>-0.12</td>\n",
       "      <td>1.07</td>\n",
       "      <td>0.17</td>\n",
       "    </tr>\n",
       "    <tr>\n",
       "      <th>28466</th>\n",
       "      <td>1.43</td>\n",
       "      <td>1.30</td>\n",
       "      <td>0.64</td>\n",
       "      <td>-0.88</td>\n",
       "      <td>1.81</td>\n",
       "      <td>2.14</td>\n",
       "      <td>-0.05</td>\n",
       "      <td>-1.49</td>\n",
       "    </tr>\n",
       "    <tr>\n",
       "      <th>...</th>\n",
       "      <td>...</td>\n",
       "      <td>...</td>\n",
       "      <td>...</td>\n",
       "      <td>...</td>\n",
       "      <td>...</td>\n",
       "      <td>...</td>\n",
       "      <td>...</td>\n",
       "      <td>...</td>\n",
       "    </tr>\n",
       "    <tr>\n",
       "      <th>25307</th>\n",
       "      <td>1.83</td>\n",
       "      <td>0.47</td>\n",
       "      <td>-1.12</td>\n",
       "      <td>-0.49</td>\n",
       "      <td>-1.49</td>\n",
       "      <td>-0.34</td>\n",
       "      <td>1.07</td>\n",
       "      <td>-0.45</td>\n",
       "    </tr>\n",
       "    <tr>\n",
       "      <th>11519</th>\n",
       "      <td>1.79</td>\n",
       "      <td>-0.60</td>\n",
       "      <td>-1.29</td>\n",
       "      <td>-1.46</td>\n",
       "      <td>-1.02</td>\n",
       "      <td>2.62</td>\n",
       "      <td>-0.55</td>\n",
       "      <td>0.43</td>\n",
       "    </tr>\n",
       "    <tr>\n",
       "      <th>67831</th>\n",
       "      <td>-0.50</td>\n",
       "      <td>-1.83</td>\n",
       "      <td>0.11</td>\n",
       "      <td>0.96</td>\n",
       "      <td>-1.02</td>\n",
       "      <td>-0.42</td>\n",
       "      <td>-0.34</td>\n",
       "      <td>1.73</td>\n",
       "    </tr>\n",
       "    <tr>\n",
       "      <th>17189</th>\n",
       "      <td>0.76</td>\n",
       "      <td>-0.82</td>\n",
       "      <td>-1.36</td>\n",
       "      <td>-0.19</td>\n",
       "      <td>-1.02</td>\n",
       "      <td>-0.01</td>\n",
       "      <td>1.07</td>\n",
       "      <td>-0.29</td>\n",
       "    </tr>\n",
       "    <tr>\n",
       "      <th>13722</th>\n",
       "      <td>1.08</td>\n",
       "      <td>1.35</td>\n",
       "      <td>-0.70</td>\n",
       "      <td>-1.07</td>\n",
       "      <td>-1.02</td>\n",
       "      <td>0.04</td>\n",
       "      <td>1.07</td>\n",
       "      <td>-1.34</td>\n",
       "    </tr>\n",
       "  </tbody>\n",
       "</table>\n",
       "<p>15390 rows × 8 columns</p>\n",
       "</div>"
      ],
      "text/plain": [
       "       Total_Rainfall  Max_Temp  Total_Sunlight_Hours  Continentality_Index  \\\n",
       "69944           -0.94     -0.09                  0.93                  1.01   \n",
       "61228           -0.72     -1.95                 -0.47                  1.02   \n",
       "9693             1.29     -0.21                 -2.15                 -1.31   \n",
       "20496            0.39     -0.33                 -0.92                  0.52   \n",
       "28466            1.43      1.30                  0.64                 -0.88   \n",
       "...               ...       ...                   ...                   ...   \n",
       "25307            1.83      0.47                 -1.12                 -0.49   \n",
       "11519            1.79     -0.60                 -1.29                 -1.46   \n",
       "67831           -0.50     -1.83                  0.11                  0.96   \n",
       "17189            0.76     -0.82                 -1.36                 -0.19   \n",
       "13722            1.08      1.35                 -0.70                 -1.07   \n",
       "\n",
       "       Aspect  Slope  Soil_Drainage  Elevation  \n",
       "69944    1.81   0.04          -0.13       0.24  \n",
       "61228   -1.02  -0.23          -0.34       1.63  \n",
       "9693    -0.55   0.01           2.58      -0.50  \n",
       "20496   -1.02  -0.12           1.07       0.17  \n",
       "28466    1.81   2.14          -0.05      -1.49  \n",
       "...       ...    ...            ...        ...  \n",
       "25307   -1.49  -0.34           1.07      -0.45  \n",
       "11519   -1.02   2.62          -0.55       0.43  \n",
       "67831   -1.02  -0.42          -0.34       1.73  \n",
       "17189   -1.02  -0.01           1.07      -0.29  \n",
       "13722   -1.02   0.04           1.07      -1.34  \n",
       "\n",
       "[15390 rows x 8 columns]"
      ]
     },
     "execution_count": 20,
     "metadata": {},
     "output_type": "execute_result"
    }
   ],
   "source": [
    "X_test"
   ]
  },
  {
   "cell_type": "code",
   "execution_count": 21,
   "metadata": {},
   "outputs": [],
   "source": [
    "scenario1Df = pd.read_csv('./scaleScenario1.csv')\n",
    "scenario1RF = best_rf_classifier.predict(scenario1Df)\n",
    "scenario1RF = pd.DataFrame(scenario1RF, columns=['Predicted_Class'])\n",
    "scenario1RF.to_csv('./scenario1RFFinished.csv')\n",
    "\n",
    "scenario2Df = pd.read_csv('./scaleScenario2.csv')\n",
    "scenario2RF = best_rf_classifier.predict(scenario2Df)\n",
    "scenario2RF = pd.DataFrame(scenario2RF, columns=['Predicted_Class'])\n",
    "scenario2RF.to_csv('./scenario2RFFinished.csv')\n",
    "\n",
    "scenario3Df = pd.read_csv('./scaleScenario3.csv')\n",
    "scenario3RF = best_rf_classifier.predict(scenario3Df)\n",
    "scenario3RF = pd.DataFrame(scenario3RF, columns=['Predicted_Class'])\n",
    "scenario3RF.to_csv('./scenario3RFFinished.csv')\n",
    "\n",
    "scenario4Df = pd.read_csv('./scaleScenario4.csv')\n",
    "scenario4RF = best_rf_classifier.predict(scenario4Df)\n",
    "scenario4RF = pd.DataFrame(scenario4RF, columns=['Predicted_Class'])\n",
    "scenario4RF.to_csv('./scenario4RFFinished.csv')"
   ]
  },
  {
   "cell_type": "markdown",
   "metadata": {},
   "source": [
    "# XGBoost"
   ]
  },
  {
   "cell_type": "code",
   "execution_count": 22,
   "metadata": {},
   "outputs": [],
   "source": [
    "import numpy as np\n",
    "import pandas as pd\n",
    "import xgboost as xgb\n",
    "from sklearn.model_selection import GridSearchCV, KFold\n",
    "from sklearn.preprocessing import LabelEncoder\n",
    "from sklearn.metrics import roc_auc_score"
   ]
  },
  {
   "cell_type": "code",
   "execution_count": 23,
   "metadata": {},
   "outputs": [
    {
     "name": "stderr",
     "output_type": "stream",
     "text": [
      "C:\\Users\\lagoodal\\AppData\\Local\\Temp\\ipykernel_1760\\3807379791.py:6: SettingWithCopyWarning: \n",
      "A value is trying to be set on a copy of a slice from a DataFrame.\n",
      "Try using .loc[row_indexer,col_indexer] = value instead\n",
      "\n",
      "See the caveats in the documentation: https://pandas.pydata.org/pandas-docs/stable/user_guide/indexing.html#returning-a-view-versus-a-copy\n",
      "  y['Tree_Type'] = label_encoder.fit_transform(y['Tree_Type'])\n"
     ]
    },
    {
     "data": {
      "text/html": [
       "<div>\n",
       "<style scoped>\n",
       "    .dataframe tbody tr th:only-of-type {\n",
       "        vertical-align: middle;\n",
       "    }\n",
       "\n",
       "    .dataframe tbody tr th {\n",
       "        vertical-align: top;\n",
       "    }\n",
       "\n",
       "    .dataframe thead th {\n",
       "        text-align: right;\n",
       "    }\n",
       "</style>\n",
       "<table border=\"1\" class=\"dataframe\">\n",
       "  <thead>\n",
       "    <tr style=\"text-align: right;\">\n",
       "      <th></th>\n",
       "      <th>Tree_Type</th>\n",
       "    </tr>\n",
       "  </thead>\n",
       "  <tbody>\n",
       "    <tr>\n",
       "      <th>0</th>\n",
       "      <td>0</td>\n",
       "    </tr>\n",
       "    <tr>\n",
       "      <th>1</th>\n",
       "      <td>0</td>\n",
       "    </tr>\n",
       "    <tr>\n",
       "      <th>2</th>\n",
       "      <td>0</td>\n",
       "    </tr>\n",
       "    <tr>\n",
       "      <th>3</th>\n",
       "      <td>0</td>\n",
       "    </tr>\n",
       "    <tr>\n",
       "      <th>4</th>\n",
       "      <td>0</td>\n",
       "    </tr>\n",
       "    <tr>\n",
       "      <th>...</th>\n",
       "      <td>...</td>\n",
       "    </tr>\n",
       "    <tr>\n",
       "      <th>76945</th>\n",
       "      <td>0</td>\n",
       "    </tr>\n",
       "    <tr>\n",
       "      <th>76946</th>\n",
       "      <td>0</td>\n",
       "    </tr>\n",
       "    <tr>\n",
       "      <th>76947</th>\n",
       "      <td>0</td>\n",
       "    </tr>\n",
       "    <tr>\n",
       "      <th>76948</th>\n",
       "      <td>0</td>\n",
       "    </tr>\n",
       "    <tr>\n",
       "      <th>76949</th>\n",
       "      <td>0</td>\n",
       "    </tr>\n",
       "  </tbody>\n",
       "</table>\n",
       "<p>76950 rows × 1 columns</p>\n",
       "</div>"
      ],
      "text/plain": [
       "       Tree_Type\n",
       "0              0\n",
       "1              0\n",
       "2              0\n",
       "3              0\n",
       "4              0\n",
       "...          ...\n",
       "76945          0\n",
       "76946          0\n",
       "76947          0\n",
       "76948          0\n",
       "76949          0\n",
       "\n",
       "[76950 rows x 1 columns]"
      ]
     },
     "execution_count": 23,
     "metadata": {},
     "output_type": "execute_result"
    }
   ],
   "source": [
    "data = pd.read_csv(\"./scaleData4.csv\", encoding='unicode_escape')\n",
    "data['Tree_Type'] = pd.Categorical(data['Tree_Type'])\n",
    "X = data.drop('Tree_Type', axis = 1)\n",
    "y = data[['Tree_Type']]\n",
    "label_encoder = LabelEncoder()\n",
    "y['Tree_Type'] = label_encoder.fit_transform(y['Tree_Type'])\n",
    "y"
   ]
  },
  {
   "cell_type": "code",
   "execution_count": 24,
   "metadata": {},
   "outputs": [],
   "source": [
    "X_train, X_test, y_train, y_test = train_test_split(X, y, test_size=0.2, random_state=33)"
   ]
  },
  {
   "cell_type": "code",
   "execution_count": 25,
   "metadata": {},
   "outputs": [],
   "source": [
    "xgb_model = xgb.XGBClassifier(objective='multi:softmax', num_class=len(np.unique(y)), n_jobs = -1)"
   ]
  },
  {
   "cell_type": "code",
   "execution_count": 26,
   "metadata": {},
   "outputs": [],
   "source": [
    "param_grid = {\n",
    "    'learning_rate': [0.15, 0.2,0.3,0.4],\n",
    "    'n_estimators': [150,160,170,180,190,200],\n",
    "    'max_depth': [4, 5, 7],\n",
    "    'subsample': [0.5, 0.6, 0.7],\n",
    "    'colsample_bytree': [0.8, 0.9, 1.0],\n",
    "    'alpha': [0.35,0.4,0.45],\n",
    "    'lambda': [0.8,1,1.2]\n",
    "}"
   ]
  },
  {
   "cell_type": "code",
   "execution_count": 27,
   "metadata": {},
   "outputs": [],
   "source": [
    "kf = KFold(n_splits=5, shuffle=True, random_state=33)"
   ]
  },
  {
   "cell_type": "code",
   "execution_count": 28,
   "metadata": {},
   "outputs": [],
   "source": [
    "grid_search_xgb = GridSearchCV(estimator=xgb_model, param_grid=param_grid, scoring='neg_log_loss', cv=kf)"
   ]
  },
  {
   "cell_type": "code",
   "execution_count": 29,
   "metadata": {},
   "outputs": [
    {
     "data": {
      "text/html": [
       "<style>#sk-container-id-2 {color: black;}#sk-container-id-2 pre{padding: 0;}#sk-container-id-2 div.sk-toggleable {background-color: white;}#sk-container-id-2 label.sk-toggleable__label {cursor: pointer;display: block;width: 100%;margin-bottom: 0;padding: 0.3em;box-sizing: border-box;text-align: center;}#sk-container-id-2 label.sk-toggleable__label-arrow:before {content: \"▸\";float: left;margin-right: 0.25em;color: #696969;}#sk-container-id-2 label.sk-toggleable__label-arrow:hover:before {color: black;}#sk-container-id-2 div.sk-estimator:hover label.sk-toggleable__label-arrow:before {color: black;}#sk-container-id-2 div.sk-toggleable__content {max-height: 0;max-width: 0;overflow: hidden;text-align: left;background-color: #f0f8ff;}#sk-container-id-2 div.sk-toggleable__content pre {margin: 0.2em;color: black;border-radius: 0.25em;background-color: #f0f8ff;}#sk-container-id-2 input.sk-toggleable__control:checked~div.sk-toggleable__content {max-height: 200px;max-width: 100%;overflow: auto;}#sk-container-id-2 input.sk-toggleable__control:checked~label.sk-toggleable__label-arrow:before {content: \"▾\";}#sk-container-id-2 div.sk-estimator input.sk-toggleable__control:checked~label.sk-toggleable__label {background-color: #d4ebff;}#sk-container-id-2 div.sk-label input.sk-toggleable__control:checked~label.sk-toggleable__label {background-color: #d4ebff;}#sk-container-id-2 input.sk-hidden--visually {border: 0;clip: rect(1px 1px 1px 1px);clip: rect(1px, 1px, 1px, 1px);height: 1px;margin: -1px;overflow: hidden;padding: 0;position: absolute;width: 1px;}#sk-container-id-2 div.sk-estimator {font-family: monospace;background-color: #f0f8ff;border: 1px dotted black;border-radius: 0.25em;box-sizing: border-box;margin-bottom: 0.5em;}#sk-container-id-2 div.sk-estimator:hover {background-color: #d4ebff;}#sk-container-id-2 div.sk-parallel-item::after {content: \"\";width: 100%;border-bottom: 1px solid gray;flex-grow: 1;}#sk-container-id-2 div.sk-label:hover label.sk-toggleable__label {background-color: #d4ebff;}#sk-container-id-2 div.sk-serial::before {content: \"\";position: absolute;border-left: 1px solid gray;box-sizing: border-box;top: 0;bottom: 0;left: 50%;z-index: 0;}#sk-container-id-2 div.sk-serial {display: flex;flex-direction: column;align-items: center;background-color: white;padding-right: 0.2em;padding-left: 0.2em;position: relative;}#sk-container-id-2 div.sk-item {position: relative;z-index: 1;}#sk-container-id-2 div.sk-parallel {display: flex;align-items: stretch;justify-content: center;background-color: white;position: relative;}#sk-container-id-2 div.sk-item::before, #sk-container-id-2 div.sk-parallel-item::before {content: \"\";position: absolute;border-left: 1px solid gray;box-sizing: border-box;top: 0;bottom: 0;left: 50%;z-index: -1;}#sk-container-id-2 div.sk-parallel-item {display: flex;flex-direction: column;z-index: 1;position: relative;background-color: white;}#sk-container-id-2 div.sk-parallel-item:first-child::after {align-self: flex-end;width: 50%;}#sk-container-id-2 div.sk-parallel-item:last-child::after {align-self: flex-start;width: 50%;}#sk-container-id-2 div.sk-parallel-item:only-child::after {width: 0;}#sk-container-id-2 div.sk-dashed-wrapped {border: 1px dashed gray;margin: 0 0.4em 0.5em 0.4em;box-sizing: border-box;padding-bottom: 0.4em;background-color: white;}#sk-container-id-2 div.sk-label label {font-family: monospace;font-weight: bold;display: inline-block;line-height: 1.2em;}#sk-container-id-2 div.sk-label-container {text-align: center;}#sk-container-id-2 div.sk-container {/* jupyter's `normalize.less` sets `[hidden] { display: none; }` but bootstrap.min.css set `[hidden] { display: none !important; }` so we also need the `!important` here to be able to override the default hidden behavior on the sphinx rendered scikit-learn.org. See: https://github.com/scikit-learn/scikit-learn/issues/21755 */display: inline-block !important;position: relative;}#sk-container-id-2 div.sk-text-repr-fallback {display: none;}</style><div id=\"sk-container-id-2\" class=\"sk-top-container\"><div class=\"sk-text-repr-fallback\"><pre>GridSearchCV(cv=KFold(n_splits=5, random_state=33, shuffle=True),\n",
       "             estimator=XGBClassifier(base_score=None, booster=None,\n",
       "                                     callbacks=None, colsample_bylevel=None,\n",
       "                                     colsample_bynode=None,\n",
       "                                     colsample_bytree=None, device=None,\n",
       "                                     early_stopping_rounds=None,\n",
       "                                     enable_categorical=False, eval_metric=None,\n",
       "                                     feature_types=None, gamma=None,\n",
       "                                     grow_policy=None, importance_type=None,\n",
       "                                     int...\n",
       "                                     missing=nan, monotone_constraints=None,\n",
       "                                     multi_strategy=None, n_estimators=None,\n",
       "                                     n_jobs=-1, num_class=3,\n",
       "                                     num_parallel_tree=None, ...),\n",
       "             param_grid={&#x27;alpha&#x27;: [0.35, 0.4, 0.45],\n",
       "                         &#x27;colsample_bytree&#x27;: [0.8, 0.9, 1.0],\n",
       "                         &#x27;lambda&#x27;: [0.8, 1, 1.2],\n",
       "                         &#x27;learning_rate&#x27;: [0.15, 0.2, 0.3, 0.4],\n",
       "                         &#x27;max_depth&#x27;: [4, 5, 7],\n",
       "                         &#x27;n_estimators&#x27;: [150, 160, 170, 180, 190, 200],\n",
       "                         &#x27;subsample&#x27;: [0.5, 0.6, 0.7]},\n",
       "             scoring=&#x27;neg_log_loss&#x27;)</pre><b>In a Jupyter environment, please rerun this cell to show the HTML representation or trust the notebook. <br />On GitHub, the HTML representation is unable to render, please try loading this page with nbviewer.org.</b></div><div class=\"sk-container\" hidden><div class=\"sk-item sk-dashed-wrapped\"><div class=\"sk-label-container\"><div class=\"sk-label sk-toggleable\"><input class=\"sk-toggleable__control sk-hidden--visually\" id=\"sk-estimator-id-4\" type=\"checkbox\" ><label for=\"sk-estimator-id-4\" class=\"sk-toggleable__label sk-toggleable__label-arrow\">GridSearchCV</label><div class=\"sk-toggleable__content\"><pre>GridSearchCV(cv=KFold(n_splits=5, random_state=33, shuffle=True),\n",
       "             estimator=XGBClassifier(base_score=None, booster=None,\n",
       "                                     callbacks=None, colsample_bylevel=None,\n",
       "                                     colsample_bynode=None,\n",
       "                                     colsample_bytree=None, device=None,\n",
       "                                     early_stopping_rounds=None,\n",
       "                                     enable_categorical=False, eval_metric=None,\n",
       "                                     feature_types=None, gamma=None,\n",
       "                                     grow_policy=None, importance_type=None,\n",
       "                                     int...\n",
       "                                     missing=nan, monotone_constraints=None,\n",
       "                                     multi_strategy=None, n_estimators=None,\n",
       "                                     n_jobs=-1, num_class=3,\n",
       "                                     num_parallel_tree=None, ...),\n",
       "             param_grid={&#x27;alpha&#x27;: [0.35, 0.4, 0.45],\n",
       "                         &#x27;colsample_bytree&#x27;: [0.8, 0.9, 1.0],\n",
       "                         &#x27;lambda&#x27;: [0.8, 1, 1.2],\n",
       "                         &#x27;learning_rate&#x27;: [0.15, 0.2, 0.3, 0.4],\n",
       "                         &#x27;max_depth&#x27;: [4, 5, 7],\n",
       "                         &#x27;n_estimators&#x27;: [150, 160, 170, 180, 190, 200],\n",
       "                         &#x27;subsample&#x27;: [0.5, 0.6, 0.7]},\n",
       "             scoring=&#x27;neg_log_loss&#x27;)</pre></div></div></div><div class=\"sk-parallel\"><div class=\"sk-parallel-item\"><div class=\"sk-item\"><div class=\"sk-label-container\"><div class=\"sk-label sk-toggleable\"><input class=\"sk-toggleable__control sk-hidden--visually\" id=\"sk-estimator-id-5\" type=\"checkbox\" ><label for=\"sk-estimator-id-5\" class=\"sk-toggleable__label sk-toggleable__label-arrow\">estimator: XGBClassifier</label><div class=\"sk-toggleable__content\"><pre>XGBClassifier(base_score=None, booster=None, callbacks=None,\n",
       "              colsample_bylevel=None, colsample_bynode=None,\n",
       "              colsample_bytree=None, device=None, early_stopping_rounds=None,\n",
       "              enable_categorical=False, eval_metric=None, feature_types=None,\n",
       "              gamma=None, grow_policy=None, importance_type=None,\n",
       "              interaction_constraints=None, learning_rate=None, max_bin=None,\n",
       "              max_cat_threshold=None, max_cat_to_onehot=None,\n",
       "              max_delta_step=None, max_depth=None, max_leaves=None,\n",
       "              min_child_weight=None, missing=nan, monotone_constraints=None,\n",
       "              multi_strategy=None, n_estimators=None, n_jobs=-1, num_class=3,\n",
       "              num_parallel_tree=None, ...)</pre></div></div></div><div class=\"sk-serial\"><div class=\"sk-item\"><div class=\"sk-estimator sk-toggleable\"><input class=\"sk-toggleable__control sk-hidden--visually\" id=\"sk-estimator-id-6\" type=\"checkbox\" ><label for=\"sk-estimator-id-6\" class=\"sk-toggleable__label sk-toggleable__label-arrow\">XGBClassifier</label><div class=\"sk-toggleable__content\"><pre>XGBClassifier(base_score=None, booster=None, callbacks=None,\n",
       "              colsample_bylevel=None, colsample_bynode=None,\n",
       "              colsample_bytree=None, device=None, early_stopping_rounds=None,\n",
       "              enable_categorical=False, eval_metric=None, feature_types=None,\n",
       "              gamma=None, grow_policy=None, importance_type=None,\n",
       "              interaction_constraints=None, learning_rate=None, max_bin=None,\n",
       "              max_cat_threshold=None, max_cat_to_onehot=None,\n",
       "              max_delta_step=None, max_depth=None, max_leaves=None,\n",
       "              min_child_weight=None, missing=nan, monotone_constraints=None,\n",
       "              multi_strategy=None, n_estimators=None, n_jobs=-1, num_class=3,\n",
       "              num_parallel_tree=None, ...)</pre></div></div></div></div></div></div></div></div></div></div>"
      ],
      "text/plain": [
       "GridSearchCV(cv=KFold(n_splits=5, random_state=33, shuffle=True),\n",
       "             estimator=XGBClassifier(base_score=None, booster=None,\n",
       "                                     callbacks=None, colsample_bylevel=None,\n",
       "                                     colsample_bynode=None,\n",
       "                                     colsample_bytree=None, device=None,\n",
       "                                     early_stopping_rounds=None,\n",
       "                                     enable_categorical=False, eval_metric=None,\n",
       "                                     feature_types=None, gamma=None,\n",
       "                                     grow_policy=None, importance_type=None,\n",
       "                                     int...\n",
       "                                     missing=nan, monotone_constraints=None,\n",
       "                                     multi_strategy=None, n_estimators=None,\n",
       "                                     n_jobs=-1, num_class=3,\n",
       "                                     num_parallel_tree=None, ...),\n",
       "             param_grid={'alpha': [0.35, 0.4, 0.45],\n",
       "                         'colsample_bytree': [0.8, 0.9, 1.0],\n",
       "                         'lambda': [0.8, 1, 1.2],\n",
       "                         'learning_rate': [0.15, 0.2, 0.3, 0.4],\n",
       "                         'max_depth': [4, 5, 7],\n",
       "                         'n_estimators': [150, 160, 170, 180, 190, 200],\n",
       "                         'subsample': [0.5, 0.6, 0.7]},\n",
       "             scoring='neg_log_loss')"
      ]
     },
     "execution_count": 29,
     "metadata": {},
     "output_type": "execute_result"
    }
   ],
   "source": [
    "grid_search_xgb.fit(X_train, y_train.values.ravel())"
   ]
  },
  {
   "cell_type": "code",
   "execution_count": 30,
   "metadata": {},
   "outputs": [
    {
     "data": {
      "text/plain": [
       "array([[5564,  166,  287],\n",
       "       [ 251, 1684,   10],\n",
       "       [ 111,    5, 7312]], dtype=int64)"
      ]
     },
     "execution_count": 30,
     "metadata": {},
     "output_type": "execute_result"
    }
   ],
   "source": [
    "from sklearn.metrics import confusion_matrix\n",
    "y_pred_xgb = grid_search_xgb.predict(X_test)\n",
    "cm = confusion_matrix(y_test, y_pred_xgb)\n",
    "cm"
   ]
  },
  {
   "cell_type": "code",
   "execution_count": 31,
   "metadata": {},
   "outputs": [
    {
     "data": {
      "text/plain": [
       "Text(33.22222222222222, 0.5, 'True Value')"
      ]
     },
     "execution_count": 31,
     "metadata": {},
     "output_type": "execute_result"
    },
    {
     "data": {
      "image/png": "[encoded data removed]",
      "text/plain": [
       "<Figure size 500x500 with 2 Axes>"
      ]
     },
     "metadata": {},
     "output_type": "display_data"
    }
   ],
   "source": [
    "%matplotlib inline\n",
    "pd.set_option('display.float_format', lambda x: '%.2f' % x)\n",
    "import seaborn as sns\n",
    "plt.figure(figsize=(5,5))\n",
    "sns.heatmap(cm, annot = True)\n",
    "plt.xlabel('Predicted')\n",
    "plt.ylabel('True Value')"
   ]
  },
  {
   "cell_type": "code",
   "execution_count": 32,
   "metadata": {},
   "outputs": [
    {
     "name": "stdout",
     "output_type": "stream",
     "text": [
      "Best Hyperparameters: {'alpha': 0.45, 'colsample_bytree': 1.0, 'lambda': 0.8, 'learning_rate': 0.3, 'max_depth': 7, 'n_estimators': 200, 'subsample': 0.7}\n",
      "Best Negative Log Loss: -0.165540331215066\n",
      "Accuracy on test set: 94.61%\n",
      "ROC AUC Score: 0.9910851274182516\n"
     ]
    }
   ],
   "source": [
    "print(\"Best Hyperparameters:\", grid_search_xgb.best_params_)\n",
    "print(\"Best Negative Log Loss:\", grid_search_xgb.best_score_)\n",
    "\n",
    "# Use the best model for predictions\n",
    "best_model_xgb = grid_search_xgb.best_estimator_\n",
    "\n",
    "# Evaluate the model\n",
    "accuracy = accuracy_score(y_test, y_pred_xgb)\n",
    "print(\"Accuracy on test set: {:.2f}%\".format(accuracy * 100))\n",
    "\n",
    "# Evaluate the model using ROC AUC on the test set\n",
    "# Assuming you have a separate test set X_test, y_test\n",
    "y_pred_proba_xgb = best_model_xgb.predict_proba(X_test)\n",
    "# For multi-class classification, you need to specify the average parameter\n",
    "roc_auc = roc_auc_score(y_test, y_pred_proba_xgb, multi_class='ovr')  # 'ovr' for one-vs-rest strategy\n",
    "print(\"ROC AUC Score:\", roc_auc)"
   ]
  },
  {
   "cell_type": "code",
   "execution_count": 33,
   "metadata": {},
   "outputs": [
    {
     "name": "stdout",
     "output_type": "stream",
     "text": [
      "\n",
      "Weighted F1 Score: 0.9457\n"
     ]
    }
   ],
   "source": [
    "f1 = f1_score(y_test, y_pred_xgb, average = 'weighted')\n",
    "print(f\"\\nWeighted F1 Score: {f1:.4f}\")"
   ]
  },
  {
   "cell_type": "code",
   "execution_count": 34,
   "metadata": {},
   "outputs": [
    {
     "name": "stdout",
     "output_type": "stream",
     "text": [
      "              precision    recall  f1-score   support\n",
      "\n",
      "           0       0.94      0.92      0.93      6017\n",
      "           1       0.91      0.87      0.89      1945\n",
      "           2       0.96      0.98      0.97      7428\n",
      "\n",
      "    accuracy                           0.95     15390\n",
      "   macro avg       0.94      0.92      0.93     15390\n",
      "weighted avg       0.95      0.95      0.95     15390\n",
      "\n"
     ]
    }
   ],
   "source": [
    "print(classification_report(y_test, y_pred_xgb))"
   ]
  },
  {
   "cell_type": "code",
   "execution_count": 35,
   "metadata": {},
   "outputs": [],
   "source": [
    "scenario1Df = pd.read_csv('./scaleScenario1.csv')\n",
    "scenario1XGB = best_model_xgb.predict(scenario1Df)\n",
    "scenario1XGB = pd.DataFrame(scenario1XGB, columns=['Predicted_Class'])\n",
    "scenario1XGB.to_csv('./scenario1XGBFinished.csv')\n",
    "\n",
    "scenario2Df = pd.read_csv('./scaleScenario2.csv')\n",
    "scenario2XGB = best_model_xgb.predict(scenario2Df)\n",
    "scenario2XGB = pd.DataFrame(scenario2XGB, columns=['Predicted_Class'])\n",
    "scenario2XGB.to_csv('./scenario2XGBFinished.csv')\n",
    "\n",
    "scenario3Df = pd.read_csv('./scaleScenario3.csv')\n",
    "scenario3XGB = best_model_xgb.predict(scenario3Df)\n",
    "scenario3XGB = pd.DataFrame(scenario3XGB, columns=['Predicted_Class'])\n",
    "scenario3XGB.to_csv('./scenario3XGBFinished.csv')\n",
    "\n",
    "scenario4Df = pd.read_csv('./scaleScenario4.csv')\n",
    "scenario4XGB = best_model_xgb.predict(scenario4Df)\n",
    "scenario4XGB = pd.DataFrame(scenario4XGB, columns=['Predicted_Class'])\n",
    "scenario4XGB.to_csv('./scenario4XGBFinished.csv')"
   ]
  },
  {
   "cell_type": "markdown",
   "metadata": {},
   "source": [
    "# ANN"
   ]
  },
  {
   "cell_type": "code",
   "execution_count": 36,
   "metadata": {},
   "outputs": [],
   "source": [
    "import numpy as np\n",
    "import pandas as pd\n",
    "from sklearn.model_selection import StratifiedKFold, GridSearchCV\n",
    "from sklearn.neural_network import MLPClassifier\n",
    "from sklearn.preprocessing import LabelEncoder\n",
    "from sklearn.metrics import roc_auc_score\n",
    "from sklearn.metrics import accuracy_score"
   ]
  },
  {
   "cell_type": "code",
   "execution_count": 37,
   "metadata": {},
   "outputs": [
    {
     "name": "stderr",
     "output_type": "stream",
     "text": [
      "C:\\Users\\lagoodal\\AppData\\Local\\Temp\\ipykernel_1760\\3807379791.py:6: SettingWithCopyWarning: \n",
      "A value is trying to be set on a copy of a slice from a DataFrame.\n",
      "Try using .loc[row_indexer,col_indexer] = value instead\n",
      "\n",
      "See the caveats in the documentation: https://pandas.pydata.org/pandas-docs/stable/user_guide/indexing.html#returning-a-view-versus-a-copy\n",
      "  y['Tree_Type'] = label_encoder.fit_transform(y['Tree_Type'])\n"
     ]
    },
    {
     "data": {
      "text/html": [
       "<div>\n",
       "<style scoped>\n",
       "    .dataframe tbody tr th:only-of-type {\n",
       "        vertical-align: middle;\n",
       "    }\n",
       "\n",
       "    .dataframe tbody tr th {\n",
       "        vertical-align: top;\n",
       "    }\n",
       "\n",
       "    .dataframe thead th {\n",
       "        text-align: right;\n",
       "    }\n",
       "</style>\n",
       "<table border=\"1\" class=\"dataframe\">\n",
       "  <thead>\n",
       "    <tr style=\"text-align: right;\">\n",
       "      <th></th>\n",
       "      <th>Tree_Type</th>\n",
       "    </tr>\n",
       "  </thead>\n",
       "  <tbody>\n",
       "    <tr>\n",
       "      <th>0</th>\n",
       "      <td>0</td>\n",
       "    </tr>\n",
       "    <tr>\n",
       "      <th>1</th>\n",
       "      <td>0</td>\n",
       "    </tr>\n",
       "    <tr>\n",
       "      <th>2</th>\n",
       "      <td>0</td>\n",
       "    </tr>\n",
       "    <tr>\n",
       "      <th>3</th>\n",
       "      <td>0</td>\n",
       "    </tr>\n",
       "    <tr>\n",
       "      <th>4</th>\n",
       "      <td>0</td>\n",
       "    </tr>\n",
       "    <tr>\n",
       "      <th>...</th>\n",
       "      <td>...</td>\n",
       "    </tr>\n",
       "    <tr>\n",
       "      <th>76945</th>\n",
       "      <td>0</td>\n",
       "    </tr>\n",
       "    <tr>\n",
       "      <th>76946</th>\n",
       "      <td>0</td>\n",
       "    </tr>\n",
       "    <tr>\n",
       "      <th>76947</th>\n",
       "      <td>0</td>\n",
       "    </tr>\n",
       "    <tr>\n",
       "      <th>76948</th>\n",
       "      <td>0</td>\n",
       "    </tr>\n",
       "    <tr>\n",
       "      <th>76949</th>\n",
       "      <td>0</td>\n",
       "    </tr>\n",
       "  </tbody>\n",
       "</table>\n",
       "<p>76950 rows × 1 columns</p>\n",
       "</div>"
      ],
      "text/plain": [
       "       Tree_Type\n",
       "0              0\n",
       "1              0\n",
       "2              0\n",
       "3              0\n",
       "4              0\n",
       "...          ...\n",
       "76945          0\n",
       "76946          0\n",
       "76947          0\n",
       "76948          0\n",
       "76949          0\n",
       "\n",
       "[76950 rows x 1 columns]"
      ]
     },
     "execution_count": 37,
     "metadata": {},
     "output_type": "execute_result"
    }
   ],
   "source": [
    "data = pd.read_csv(\"./scaleData4.csv\", encoding='unicode_escape')\n",
    "data['Tree_Type'] = pd.Categorical(data['Tree_Type'])\n",
    "X = data.drop('Tree_Type', axis = 1)\n",
    "y = data[['Tree_Type']]\n",
    "label_encoder = LabelEncoder()\n",
    "y['Tree_Type'] = label_encoder.fit_transform(y['Tree_Type'])\n",
    "y"
   ]
  },
  {
   "cell_type": "code",
   "execution_count": 38,
   "metadata": {},
   "outputs": [],
   "source": [
    "X_train, X_test, y_train, y_test = train_test_split(X, y, test_size=0.2, random_state=33)"
   ]
  },
  {
   "cell_type": "code",
   "execution_count": 39,
   "metadata": {},
   "outputs": [],
   "source": [
    "mlp = MLPClassifier(max_iter=500)"
   ]
  },
  {
   "cell_type": "code",
   "execution_count": 40,
   "metadata": {},
   "outputs": [],
   "source": [
    "param_grid = {\n",
    "    'hidden_layer_sizes': [(30,40,30,40), (40,40,40,40), (20,30,40,50), (40,20,40,20)],\n",
    "    'activation': ['relu', 'tanh', 'identity', 'logistic'],\n",
    "    'solver' : ['sgd', 'adam'],\n",
    "    'alpha': [0.001],\n",
    "    'learning_rate_init': [0.0001, 0.001],\n",
    "    'early_stopping' : [True]\n",
    "}"
   ]
  },
  {
   "cell_type": "code",
   "execution_count": 41,
   "metadata": {},
   "outputs": [],
   "source": [
    "cv = StratifiedKFold(n_splits=5, shuffle=True, random_state=42)\n",
    "grid_search_ann = GridSearchCV(mlp, param_grid, scoring='accuracy', cv=cv, n_jobs=-1)"
   ]
  },
  {
   "cell_type": "code",
   "execution_count": 42,
   "metadata": {},
   "outputs": [
    {
     "data": {
      "text/html": [
       "<style>#sk-container-id-3 {color: black;}#sk-container-id-3 pre{padding: 0;}#sk-container-id-3 div.sk-toggleable {background-color: white;}#sk-container-id-3 label.sk-toggleable__label {cursor: pointer;display: block;width: 100%;margin-bottom: 0;padding: 0.3em;box-sizing: border-box;text-align: center;}#sk-container-id-3 label.sk-toggleable__label-arrow:before {content: \"▸\";float: left;margin-right: 0.25em;color: #696969;}#sk-container-id-3 label.sk-toggleable__label-arrow:hover:before {color: black;}#sk-container-id-3 div.sk-estimator:hover label.sk-toggleable__label-arrow:before {color: black;}#sk-container-id-3 div.sk-toggleable__content {max-height: 0;max-width: 0;overflow: hidden;text-align: left;background-color: #f0f8ff;}#sk-container-id-3 div.sk-toggleable__content pre {margin: 0.2em;color: black;border-radius: 0.25em;background-color: #f0f8ff;}#sk-container-id-3 input.sk-toggleable__control:checked~div.sk-toggleable__content {max-height: 200px;max-width: 100%;overflow: auto;}#sk-container-id-3 input.sk-toggleable__control:checked~label.sk-toggleable__label-arrow:before {content: \"▾\";}#sk-container-id-3 div.sk-estimator input.sk-toggleable__control:checked~label.sk-toggleable__label {background-color: #d4ebff;}#sk-container-id-3 div.sk-label input.sk-toggleable__control:checked~label.sk-toggleable__label {background-color: #d4ebff;}#sk-container-id-3 input.sk-hidden--visually {border: 0;clip: rect(1px 1px 1px 1px);clip: rect(1px, 1px, 1px, 1px);height: 1px;margin: -1px;overflow: hidden;padding: 0;position: absolute;width: 1px;}#sk-container-id-3 div.sk-estimator {font-family: monospace;background-color: #f0f8ff;border: 1px dotted black;border-radius: 0.25em;box-sizing: border-box;margin-bottom: 0.5em;}#sk-container-id-3 div.sk-estimator:hover {background-color: #d4ebff;}#sk-container-id-3 div.sk-parallel-item::after {content: \"\";width: 100%;border-bottom: 1px solid gray;flex-grow: 1;}#sk-container-id-3 div.sk-label:hover label.sk-toggleable__label {background-color: #d4ebff;}#sk-container-id-3 div.sk-serial::before {content: \"\";position: absolute;border-left: 1px solid gray;box-sizing: border-box;top: 0;bottom: 0;left: 50%;z-index: 0;}#sk-container-id-3 div.sk-serial {display: flex;flex-direction: column;align-items: center;background-color: white;padding-right: 0.2em;padding-left: 0.2em;position: relative;}#sk-container-id-3 div.sk-item {position: relative;z-index: 1;}#sk-container-id-3 div.sk-parallel {display: flex;align-items: stretch;justify-content: center;background-color: white;position: relative;}#sk-container-id-3 div.sk-item::before, #sk-container-id-3 div.sk-parallel-item::before {content: \"\";position: absolute;border-left: 1px solid gray;box-sizing: border-box;top: 0;bottom: 0;left: 50%;z-index: -1;}#sk-container-id-3 div.sk-parallel-item {display: flex;flex-direction: column;z-index: 1;position: relative;background-color: white;}#sk-container-id-3 div.sk-parallel-item:first-child::after {align-self: flex-end;width: 50%;}#sk-container-id-3 div.sk-parallel-item:last-child::after {align-self: flex-start;width: 50%;}#sk-container-id-3 div.sk-parallel-item:only-child::after {width: 0;}#sk-container-id-3 div.sk-dashed-wrapped {border: 1px dashed gray;margin: 0 0.4em 0.5em 0.4em;box-sizing: border-box;padding-bottom: 0.4em;background-color: white;}#sk-container-id-3 div.sk-label label {font-family: monospace;font-weight: bold;display: inline-block;line-height: 1.2em;}#sk-container-id-3 div.sk-label-container {text-align: center;}#sk-container-id-3 div.sk-container {/* jupyter's `normalize.less` sets `[hidden] { display: none; }` but bootstrap.min.css set `[hidden] { display: none !important; }` so we also need the `!important` here to be able to override the default hidden behavior on the sphinx rendered scikit-learn.org. See: https://github.com/scikit-learn/scikit-learn/issues/21755 */display: inline-block !important;position: relative;}#sk-container-id-3 div.sk-text-repr-fallback {display: none;}</style><div id=\"sk-container-id-3\" class=\"sk-top-container\"><div class=\"sk-text-repr-fallback\"><pre>GridSearchCV(cv=StratifiedKFold(n_splits=5, random_state=42, shuffle=True),\n",
       "             estimator=MLPClassifier(max_iter=500), n_jobs=-1,\n",
       "             param_grid={&#x27;activation&#x27;: [&#x27;relu&#x27;, &#x27;tanh&#x27;, &#x27;identity&#x27;, &#x27;logistic&#x27;],\n",
       "                         &#x27;alpha&#x27;: [0.001], &#x27;early_stopping&#x27;: [True],\n",
       "                         &#x27;hidden_layer_sizes&#x27;: [(30, 40, 30, 40),\n",
       "                                                (40, 40, 40, 40),\n",
       "                                                (20, 30, 40, 50),\n",
       "                                                (40, 20, 40, 20)],\n",
       "                         &#x27;learning_rate_init&#x27;: [0.0001, 0.001],\n",
       "                         &#x27;solver&#x27;: [&#x27;sgd&#x27;, &#x27;adam&#x27;]},\n",
       "             scoring=&#x27;accuracy&#x27;)</pre><b>In a Jupyter environment, please rerun this cell to show the HTML representation or trust the notebook. <br />On GitHub, the HTML representation is unable to render, please try loading this page with nbviewer.org.</b></div><div class=\"sk-container\" hidden><div class=\"sk-item sk-dashed-wrapped\"><div class=\"sk-label-container\"><div class=\"sk-label sk-toggleable\"><input class=\"sk-toggleable__control sk-hidden--visually\" id=\"sk-estimator-id-7\" type=\"checkbox\" ><label for=\"sk-estimator-id-7\" class=\"sk-toggleable__label sk-toggleable__label-arrow\">GridSearchCV</label><div class=\"sk-toggleable__content\"><pre>GridSearchCV(cv=StratifiedKFold(n_splits=5, random_state=42, shuffle=True),\n",
       "             estimator=MLPClassifier(max_iter=500), n_jobs=-1,\n",
       "             param_grid={&#x27;activation&#x27;: [&#x27;relu&#x27;, &#x27;tanh&#x27;, &#x27;identity&#x27;, &#x27;logistic&#x27;],\n",
       "                         &#x27;alpha&#x27;: [0.001], &#x27;early_stopping&#x27;: [True],\n",
       "                         &#x27;hidden_layer_sizes&#x27;: [(30, 40, 30, 40),\n",
       "                                                (40, 40, 40, 40),\n",
       "                                                (20, 30, 40, 50),\n",
       "                                                (40, 20, 40, 20)],\n",
       "                         &#x27;learning_rate_init&#x27;: [0.0001, 0.001],\n",
       "                         &#x27;solver&#x27;: [&#x27;sgd&#x27;, &#x27;adam&#x27;]},\n",
       "             scoring=&#x27;accuracy&#x27;)</pre></div></div></div><div class=\"sk-parallel\"><div class=\"sk-parallel-item\"><div class=\"sk-item\"><div class=\"sk-label-container\"><div class=\"sk-label sk-toggleable\"><input class=\"sk-toggleable__control sk-hidden--visually\" id=\"sk-estimator-id-8\" type=\"checkbox\" ><label for=\"sk-estimator-id-8\" class=\"sk-toggleable__label sk-toggleable__label-arrow\">estimator: MLPClassifier</label><div class=\"sk-toggleable__content\"><pre>MLPClassifier(max_iter=500)</pre></div></div></div><div class=\"sk-serial\"><div class=\"sk-item\"><div class=\"sk-estimator sk-toggleable\"><input class=\"sk-toggleable__control sk-hidden--visually\" id=\"sk-estimator-id-9\" type=\"checkbox\" ><label for=\"sk-estimator-id-9\" class=\"sk-toggleable__label sk-toggleable__label-arrow\">MLPClassifier</label><div class=\"sk-toggleable__content\"><pre>MLPClassifier(max_iter=500)</pre></div></div></div></div></div></div></div></div></div></div>"
      ],
      "text/plain": [
       "GridSearchCV(cv=StratifiedKFold(n_splits=5, random_state=42, shuffle=True),\n",
       "             estimator=MLPClassifier(max_iter=500), n_jobs=-1,\n",
       "             param_grid={'activation': ['relu', 'tanh', 'identity', 'logistic'],\n",
       "                         'alpha': [0.001], 'early_stopping': [True],\n",
       "                         'hidden_layer_sizes': [(30, 40, 30, 40),\n",
       "                                                (40, 40, 40, 40),\n",
       "                                                (20, 30, 40, 50),\n",
       "                                                (40, 20, 40, 20)],\n",
       "                         'learning_rate_init': [0.0001, 0.001],\n",
       "                         'solver': ['sgd', 'adam']},\n",
       "             scoring='accuracy')"
      ]
     },
     "execution_count": 42,
     "metadata": {},
     "output_type": "execute_result"
    }
   ],
   "source": [
    "grid_search_ann.fit(X_train, y_train.values.ravel())"
   ]
  },
  {
   "cell_type": "code",
   "execution_count": 43,
   "metadata": {},
   "outputs": [
    {
     "name": "stdout",
     "output_type": "stream",
     "text": [
      "Best hyperparameters:  {'activation': 'tanh', 'alpha': 0.001, 'early_stopping': True, 'hidden_layer_sizes': (40, 40, 40, 40), 'learning_rate_init': 0.001, 'solver': 'adam'}\n",
      "Accuracy on test set: 91.40%\n",
      "ROC AUC Score: 0.9799128019264408\n"
     ]
    }
   ],
   "source": [
    "# Print the best hyperparameters found\n",
    "print(\"Best hyperparameters: \", grid_search_ann.best_params_)\n",
    "\n",
    "# Use the best model for prediction\n",
    "best_model_ann = grid_search_ann.best_estimator_\n",
    "y_pred_ann = best_model_ann.predict(X_test)\n",
    "\n",
    "# Evaluate the model\n",
    "accuracy = accuracy_score(y_test, y_pred_ann)\n",
    "print(\"Accuracy on test set: {:.2f}%\".format(accuracy * 100))\n",
    "\n",
    "\n",
    "y_pred_proba_ann = best_model_ann.predict_proba(X_test)\n",
    "# For multi-class classification, you need to specify the average parameter\n",
    "roc_auc_ann = roc_auc_score(y_test, y_pred_proba_ann, multi_class='ovr')  # 'ovr' for one-vs-rest strategy\n",
    "print(\"ROC AUC Score:\", roc_auc_ann)"
   ]
  },
  {
   "cell_type": "code",
   "execution_count": 44,
   "metadata": {},
   "outputs": [
    {
     "name": "stdout",
     "output_type": "stream",
     "text": [
      "Classification Report:\n",
      "               precision    recall  f1-score   support\n",
      "\n",
      "           0       0.89      0.90      0.89      6017\n",
      "           1       0.84      0.74      0.79      1945\n",
      "           2       0.95      0.97      0.96      7428\n",
      "\n",
      "    accuracy                           0.91     15390\n",
      "   macro avg       0.89      0.87      0.88     15390\n",
      "weighted avg       0.91      0.91      0.91     15390\n",
      "\n"
     ]
    }
   ],
   "source": [
    "print(\"Classification Report:\\n\", classification_report(y_test, y_pred_ann))"
   ]
  },
  {
   "cell_type": "code",
   "execution_count": 45,
   "metadata": {},
   "outputs": [],
   "source": [
    "scenario1Df = pd.read_csv('./scaleScenario1.csv')\n",
    "scenario1ANN = best_model_ann.predict(scenario1Df)\n",
    "scenario1ANN = pd.DataFrame(scenario1ANN, columns=['Predicted_Class'])\n",
    "scenario1ANN.to_csv('./scenario1ANNFinished.csv')\n",
    "\n",
    "scenario2Df = pd.read_csv('./scaleScenario2.csv')\n",
    "scenario2ANN = best_model_ann.predict(scenario2Df)\n",
    "scenario2ANN = pd.DataFrame(scenario2ANN, columns=['Predicted_Class'])\n",
    "scenario2ANN.to_csv('./scenario2ANNFinished.csv')\n",
    "\n",
    "scenario3Df = pd.read_csv('./scaleScenario3.csv')\n",
    "scenario3ANN = best_model_ann.predict(scenario3Df)\n",
    "scenario3ANN = pd.DataFrame(scenario3ANN, columns=['Predicted_Class'])\n",
    "scenario3ANN.to_csv('./scenario3ANNFinished.csv')\n",
    "\n",
    "scenario4Df = pd.read_csv('./scaleScenario4.csv')\n",
    "scenario4ANN = best_model_ann.predict(scenario4Df)\n",
    "scenario4ANN = pd.DataFrame(scenario4ANN, columns=['Predicted_Class'])\n",
    "scenario4ANN.to_csv('./scenario4ANNFinished.csv')"
   ]
  }
 ],
 "metadata": {
  "kernelspec": {
   "display_name": "Python 3",
   "language": "python",
   "name": "python3"
  },
  "language_info": {
   "codemirror_mode": {
    "name": "ipython",
    "version": 3
   },
   "file_extension": ".py",
   "mimetype": "text/x-python",
   "name": "python",
   "nbconvert_exporter": "python",
   "pygments_lexer": "ipython3",
   "version": "3.11.5"
  }
 },
 "nbformat": 4,
 "nbformat_minor": 2
}
